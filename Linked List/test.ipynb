{
 "cells": [
  {
   "cell_type": "code",
   "execution_count": 2,
   "metadata": {},
   "outputs": [
    {
     "ename": "KeyboardInterrupt",
     "evalue": "",
     "output_type": "error",
     "traceback": [
      "\u001b[1;31m---------------------------------------------------------------------------\u001b[0m",
      "\u001b[1;31mKeyboardInterrupt\u001b[0m                         Traceback (most recent call last)",
      "Input \u001b[1;32mIn [2]\u001b[0m, in \u001b[0;36m<cell line: 44>\u001b[1;34m()\u001b[0m\n\u001b[0;32m     42\u001b[0m my_linked_list_1\u001b[38;5;241m.\u001b[39mappend(\u001b[38;5;241m4\u001b[39m)\n\u001b[0;32m     43\u001b[0m my_linked_list_1\u001b[38;5;241m.\u001b[39mtail\u001b[38;5;241m.\u001b[39mnext \u001b[38;5;241m=\u001b[39m my_linked_list_1\u001b[38;5;241m.\u001b[39mhead\n\u001b[1;32m---> 44\u001b[0m \u001b[38;5;28mprint\u001b[39m(\u001b[43mmy_linked_list_1\u001b[49m\u001b[38;5;241;43m.\u001b[39;49m\u001b[43mhas_loop\u001b[49m\u001b[43m(\u001b[49m\u001b[43m)\u001b[49m ) \u001b[38;5;66;03m# Returns True\u001b[39;00m\n\u001b[0;32m     49\u001b[0m my_linked_list_2 \u001b[38;5;241m=\u001b[39m LinkedList(\u001b[38;5;241m1\u001b[39m)\n\u001b[0;32m     50\u001b[0m my_linked_list_2\u001b[38;5;241m.\u001b[39mappend(\u001b[38;5;241m2\u001b[39m)\n",
      "Input \u001b[1;32mIn [2]\u001b[0m, in \u001b[0;36mLinkedList.has_loop\u001b[1;34m(self)\u001b[0m\n\u001b[0;32m     28\u001b[0m fast_ptr\u001b[38;5;241m=\u001b[39m\u001b[38;5;28mself\u001b[39m\u001b[38;5;241m.\u001b[39mhead\n\u001b[0;32m     29\u001b[0m \u001b[38;5;28;01mwhile\u001b[39;00m fast_ptr\u001b[38;5;241m.\u001b[39mnext \u001b[38;5;129;01mis\u001b[39;00m \u001b[38;5;129;01mnot\u001b[39;00m \u001b[38;5;28;01mNone\u001b[39;00m \u001b[38;5;129;01mand\u001b[39;00m slow_ptr \u001b[38;5;129;01mis\u001b[39;00m \u001b[38;5;129;01mnot\u001b[39;00m \u001b[38;5;28;01mNone\u001b[39;00m:\n\u001b[1;32m---> 30\u001b[0m     slow_ptr\u001b[38;5;241m=\u001b[39m\u001b[38;5;28;43mself\u001b[39;49m\u001b[38;5;241;43m.\u001b[39;49m\u001b[43mhead\u001b[49m\u001b[38;5;241m.\u001b[39mnext\n\u001b[0;32m     31\u001b[0m     fast_ptr\u001b[38;5;241m=\u001b[39m\u001b[38;5;28mself\u001b[39m\u001b[38;5;241m.\u001b[39mhead\u001b[38;5;241m.\u001b[39mnext\u001b[38;5;241m.\u001b[39mnext\n\u001b[0;32m     32\u001b[0m     \u001b[38;5;28;01mif\u001b[39;00m(fast_ptr\u001b[38;5;241m==\u001b[39mslow_ptr):\n",
      "\u001b[1;31mKeyboardInterrupt\u001b[0m: "
     ]
    }
   ],
   "source": [
    "class Node:\n",
    "    def __init__(self, value):\n",
    "        self.value = value\n",
    "        self.next = None\n",
    "        \n",
    "class LinkedList:\n",
    "    def __init__(self, value):\n",
    "        new_node = Node(value)\n",
    "        self.head = new_node\n",
    "        self.tail = new_node\n",
    "        self.length = 1\n",
    "\n",
    "    def append(self, value):\n",
    "        new_node = Node(value)\n",
    "        if self.length == 0:\n",
    "            self.head = new_node\n",
    "            self.tail = new_node\n",
    "        else:\n",
    "            self.tail.next = new_node\n",
    "            self.tail = new_node\n",
    "        self.length += 1\n",
    "        return True\n",
    "\n",
    "    def has_loop(self):\n",
    "        if self.head is None:\n",
    "            return False\n",
    "        slow_ptr=self.head\n",
    "        fast_ptr=self.head\n",
    "        while fast_ptr.next is not None and slow_ptr is not None:\n",
    "            slow_ptr=self.head.next\n",
    "            fast_ptr=self.head.next.next\n",
    "            if(fast_ptr==slow_ptr):\n",
    "                return True\n",
    "        return False\n",
    "    \n",
    "    \n",
    "    \n",
    "    \n",
    "my_linked_list_1 = LinkedList(1)\n",
    "my_linked_list_1.append(2)\n",
    "my_linked_list_1.append(3)\n",
    "my_linked_list_1.append(4)\n",
    "my_linked_list_1.tail.next = my_linked_list_1.head\n",
    "print(my_linked_list_1.has_loop() ) # Returns True\n",
    "\n",
    "\n",
    "\n",
    "\n",
    "my_linked_list_2 = LinkedList(1)\n",
    "my_linked_list_2.append(2)\n",
    "my_linked_list_2.append(3)\n",
    "my_linked_list_2.append(4)\n",
    "print(my_linked_list_2.has_loop() ) # Returns False\n",
    "\n",
    "\n",
    "\n",
    "\"\"\"\n",
    "    EXPECTED OUTPUT:\n",
    "    ----------------\n",
    "    True\n",
    "    False\n",
    "    \n",
    "\"\"\"\n"
   ]
  },
  {
   "cell_type": "code",
   "execution_count": null,
   "metadata": {},
   "outputs": [],
   "source": []
  }
 ],
 "metadata": {
  "kernelspec": {
   "display_name": "base",
   "language": "python",
   "name": "python3"
  },
  "language_info": {
   "codemirror_mode": {
    "name": "ipython",
    "version": 3
   },
   "file_extension": ".py",
   "mimetype": "text/x-python",
   "name": "python",
   "nbconvert_exporter": "python",
   "pygments_lexer": "ipython3",
   "version": "3.9.12"
  }
 },
 "nbformat": 4,
 "nbformat_minor": 2
}
